{
 "cells": [
  {
   "cell_type": "markdown",
   "metadata": {},
   "source": [
    "build fuzzy words dict\n",
    "travel on 1st col till you find dateMatch - no? throw error\n",
    "if dateMatch found, travel in the row and find other 3 match - save their col in matchCol[] and matchRow\n",
    "travel in dateMatch col, fill the ignoreRows[] (dateFoundFlag - on then off -> ok) => found start and finish row of table\n",
    "travel whole table using matchCol[] & matchRow, start & finish and fill extract[][]\n",
    "return extract"
   ]
  },
  {
   "cell_type": "code",
   "execution_count": 159,
   "metadata": {},
   "outputs": [],
   "source": [
    "from fuzzywuzzy import process\n",
    "\n",
    "def match_column(possible_names, actual_columns):\n",
    "    match, score = process.extractOne(possible_names, actual_columns)\n",
    "    return match if score > 60 else None"
   ]
  },
  {
   "cell_type": "code",
   "execution_count": 160,
   "metadata": {},
   "outputs": [],
   "source": [
    "target_fields = {\n",
    "    'date': ['date', 'transaction date', 'value date','Txn Date', 'Expense Date'],\n",
    "    'description': ['description', 'particulars', 'payment name', 'narration'],\n",
    "    'withdrawal': ['debit', 'withdrawal', 'amount withdrawn'],\n",
    "    'deposit': ['credit', 'deposit', 'amount deposited']\n",
    "}"
   ]
  },
  {
   "cell_type": "code",
   "execution_count": 164,
   "metadata": {},
   "outputs": [
    {
     "ename": "TypeError",
     "evalue": "open_workbook() got an unexpected keyword argument 'ignore_workbook_corruption'",
     "output_type": "error",
     "traceback": [
      "\u001b[1;31m---------------------------------------------------------------------------\u001b[0m",
      "\u001b[1;31mTypeError\u001b[0m                                 Traceback (most recent call last)",
      "Cell \u001b[1;32mIn[164], line 2\u001b[0m\n\u001b[0;32m      1\u001b[0m \u001b[38;5;28;01mfrom\u001b[39;00m\u001b[38;5;250m \u001b[39m\u001b[38;5;21;01mxls2xlsx\u001b[39;00m\u001b[38;5;250m \u001b[39m\u001b[38;5;28;01mimport\u001b[39;00m XLS2XLSX\n\u001b[1;32m----> 2\u001b[0m x2x \u001b[38;5;241m=\u001b[39m \u001b[43mXLS2XLSX\u001b[49m\u001b[43m(\u001b[49m\u001b[38;5;124;43m\"\u001b[39;49m\u001b[38;5;124;43mapr25sbi.xls\u001b[39;49m\u001b[38;5;124;43m\"\u001b[39;49m\u001b[43m,\u001b[49m\u001b[43m \u001b[49m\u001b[43mignore_workbook_corruption\u001b[49m\u001b[38;5;241;43m=\u001b[39;49m\u001b[38;5;28;43;01mTrue\u001b[39;49;00m\u001b[43m)\u001b[49m\n\u001b[0;32m      3\u001b[0m x2x\u001b[38;5;241m.\u001b[39mto_xlsx(\u001b[38;5;124m\"\u001b[39m\u001b[38;5;124mapr25New.xlsx\u001b[39m\u001b[38;5;124m\"\u001b[39m)\n",
      "File \u001b[1;32md:\\codes\\bank statement extractor\\venv\\lib\\site-packages\\xls2xlsx\\xls2xlsx.py:44\u001b[0m, in \u001b[0;36mXLS2XLSX.__init__\u001b[1;34m(self, f, dirname, ignore_workbook_corruption)\u001b[0m\n\u001b[0;32m     42\u001b[0m \u001b[38;5;28mself\u001b[39m\u001b[38;5;241m.\u001b[39mh2x \u001b[38;5;241m=\u001b[39m \u001b[38;5;28;01mNone\u001b[39;00m\n\u001b[0;32m     43\u001b[0m \u001b[38;5;28;01mtry\u001b[39;00m:\n\u001b[1;32m---> 44\u001b[0m     \u001b[38;5;28mself\u001b[39m\u001b[38;5;241m.\u001b[39mbook \u001b[38;5;241m=\u001b[39m \u001b[43mxlrd\u001b[49m\u001b[38;5;241;43m.\u001b[39;49m\u001b[43mopen_workbook\u001b[49m\u001b[43m(\u001b[49m\u001b[43mfile_contents\u001b[49m\u001b[38;5;241;43m=\u001b[39;49m\u001b[38;5;28;43mself\u001b[39;49m\u001b[38;5;241;43m.\u001b[39;49m\u001b[43mcontents\u001b[49m\u001b[43m,\u001b[49m\u001b[43m \u001b[49m\u001b[43mformatting_info\u001b[49m\u001b[38;5;241;43m=\u001b[39;49m\u001b[38;5;28;43;01mTrue\u001b[39;49;00m\u001b[43m,\u001b[49m\n\u001b[0;32m     45\u001b[0m \u001b[43m                                   \u001b[49m\u001b[43mignore_workbook_corruption\u001b[49m\u001b[38;5;241;43m=\u001b[39;49m\u001b[43mignore_workbook_corruption\u001b[49m\u001b[43m)\u001b[49m\n\u001b[0;32m     46\u001b[0m     \u001b[38;5;28mself\u001b[39m\u001b[38;5;241m.\u001b[39mdate_mode \u001b[38;5;241m=\u001b[39m \u001b[38;5;28mself\u001b[39m\u001b[38;5;241m.\u001b[39mbook\u001b[38;5;241m.\u001b[39mdatemode\n\u001b[0;32m     47\u001b[0m \u001b[38;5;28;01mexcept\u001b[39;00m xlrd\u001b[38;5;241m.\u001b[39mXLRDError \u001b[38;5;28;01mas\u001b[39;00m e:\n",
      "\u001b[1;31mTypeError\u001b[0m: open_workbook() got an unexpected keyword argument 'ignore_workbook_corruption'"
     ]
    }
   ],
   "source": [
    "from xls2xlsx import XLS2XLSX\n",
    "x2x = XLS2XLSX(\"apr25sbi.xls\", ignore_workbook_corruption=True)\n",
    "x2x.to_xlsx(\"apr25New.xlsx\")"
   ]
  },
  {
   "cell_type": "code",
   "execution_count": 166,
   "metadata": {},
   "outputs": [
    {
     "ename": "TypeError",
     "evalue": "open_workbook() got an unexpected keyword argument 'ignore_workbook_corruption'",
     "output_type": "error",
     "traceback": [
      "\u001b[1;31m---------------------------------------------------------------------------\u001b[0m",
      "\u001b[1;31mTypeError\u001b[0m                                 Traceback (most recent call last)",
      "Cell \u001b[1;32mIn[166], line 2\u001b[0m\n\u001b[0;32m      1\u001b[0m \u001b[38;5;28;01mimport\u001b[39;00m\u001b[38;5;250m \u001b[39m\u001b[38;5;21;01mxlrd\u001b[39;00m\n\u001b[1;32m----> 2\u001b[0m book \u001b[38;5;241m=\u001b[39m \u001b[43mxlrd\u001b[49m\u001b[38;5;241;43m.\u001b[39;49m\u001b[43mopen_workbook\u001b[49m\u001b[43m(\u001b[49m\u001b[38;5;124;43m\"\u001b[39;49m\u001b[38;5;124;43mapr25sbi.xls\u001b[39;49m\u001b[38;5;124;43m\"\u001b[39;49m\u001b[43m,\u001b[49m\u001b[43m \u001b[49m\u001b[43mignore_workbook_corruption\u001b[49m\u001b[38;5;241;43m=\u001b[39;49m\u001b[38;5;28;43;01mTrue\u001b[39;49;00m\u001b[43m)\u001b[49m\n\u001b[0;32m      4\u001b[0m sh \u001b[38;5;241m=\u001b[39m book\u001b[38;5;241m.\u001b[39msheet_by_index(\u001b[38;5;241m0\u001b[39m)\n\u001b[0;32m      5\u001b[0m \u001b[38;5;66;03m#travel on 1st col till you find dateMatch - no? throw error\u001b[39;00m\n",
      "\u001b[1;31mTypeError\u001b[0m: open_workbook() got an unexpected keyword argument 'ignore_workbook_corruption'"
     ]
    }
   ],
   "source": [
    "import xlrd\n",
    "book = xlrd.open_workbook(\"apr25sbi.xls\", ignore_workbook_corruption=True)\n",
    "\n",
    "sh = book.sheet_by_index(0)\n",
    "#travel on 1st col till you find dateMatch - no? throw error"
   ]
  },
  {
   "cell_type": "code",
   "execution_count": 149,
   "metadata": {},
   "outputs": [
    {
     "name": "stdout",
     "output_type": "stream",
     "text": [
      "48 7\n"
     ]
    }
   ],
   "source": [
    "row_num = sh.nrows \n",
    "col_num = sh.ncols\n",
    "print(row_num, col_num)"
   ]
  },
  {
   "cell_type": "code",
   "execution_count": 150,
   "metadata": {},
   "outputs": [
    {
     "name": "stdout",
     "output_type": "stream",
     "text": [
      "['Date', '01/02/25', '01/02/25', '02/02/25', '03/02/25', '03/02/25', '03/02/25', '03/02/25', '03/02/25', '03/02/25', '05/02/25', '05/02/25', '05/02/25', '06/02/25', '06/02/25', '07/02/25', '07/02/25', '09/02/25', '09/02/25', '10/02/25', '10/02/25', '10/02/25', '11/02/25', '11/02/25', '15/02/25', '24/02/25', '25/02/25', '25/02/25', '26/02/25', '28/02/25', '', '********', '*********************************************************************************************************************************', '', 'STATEMENT SUMMARY  :-', 'Opening Balance', 59363.03, '', '', '', '', '', 'Generated On:', '', 'State account branch GSTN:', 'HDFC Bank GSTIN number details are available at \\nhttps://www.hdfcbank.com/personal/making-payments/online-tax-payment/goods-and-service-tax.', 'Registered Office Address: HDFC Bank House, Senapati Bapat Marg, Lower Parel, Mumbai 400013', '---  End Of Statement ---']\n"
     ]
    }
   ],
   "source": [
    "col_a = sh.col_values(0, start_rowx=0, end_rowx=None)\n",
    "print(col_a)"
   ]
  },
  {
   "cell_type": "code",
   "execution_count": 151,
   "metadata": {},
   "outputs": [
    {
     "name": "stderr",
     "output_type": "stream",
     "text": [
      "WARNING:root:Applied processor reduces input query to empty string, all comparisons will have score 0. [Query: '********']\n",
      "WARNING:root:Applied processor reduces input query to empty string, all comparisons will have score 0. [Query: '********']\n",
      "WARNING:root:Applied processor reduces input query to empty string, all comparisons will have score 0. [Query: '********']\n",
      "WARNING:root:Applied processor reduces input query to empty string, all comparisons will have score 0. [Query: '********']\n",
      "WARNING:root:Applied processor reduces input query to empty string, all comparisons will have score 0. [Query: '********']\n",
      "WARNING:root:Applied processor reduces input query to empty string, all comparisons will have score 0. [Query: '*********************************************************************************************************************************']\n",
      "WARNING:root:Applied processor reduces input query to empty string, all comparisons will have score 0. [Query: '*********************************************************************************************************************************']\n",
      "WARNING:root:Applied processor reduces input query to empty string, all comparisons will have score 0. [Query: '*********************************************************************************************************************************']\n",
      "WARNING:root:Applied processor reduces input query to empty string, all comparisons will have score 0. [Query: '*********************************************************************************************************************************']\n",
      "WARNING:root:Applied processor reduces input query to empty string, all comparisons will have score 0. [Query: '*********************************************************************************************************************************']\n"
     ]
    },
    {
     "name": "stdout",
     "output_type": "stream",
     "text": [
      "{0}\n"
     ]
    }
   ],
   "source": [
    "dateMatchRows = set()\n",
    "for i in range(0,len(col_a)-1):\n",
    "    if col_a[i]:\n",
    "        for j in (target_fields['date']):\n",
    "            try:\n",
    "                if(match_column(col_a[i], j)):\n",
    "                    dateMatchRows.add(i)\n",
    "            except (TypeError):\n",
    "                pass\n",
    "\n",
    "print(dateMatchRows)"
   ]
  },
  {
   "cell_type": "markdown",
   "metadata": {},
   "source": [
    "if dateMatch found, travel in the row and find other 3 match - save their col in matchCol[] and matchRow\n"
   ]
  },
  {
   "cell_type": "code",
   "execution_count": null,
   "metadata": {},
   "outputs": [
    {
     "name": "stdout",
     "output_type": "stream",
     "text": [
      "{'Date': 'date', 'Narration': 'description', 'Withdrawal Amt.': 'withdrawal', 'Deposit Amt.': 'deposit'}\n"
     ]
    }
   ],
   "source": [
    "#matchedFields is field in sheet -> our field\n",
    "matchedFields = {}\n",
    "headerRowNum = 0\n",
    "if dateMatchRows:\n",
    "    # check that particular row contains other 3 cols or not and save them\n",
    "    for row in dateMatchRows:\n",
    "        # travel in this row - add in dict - if len(dict) == 4 then we found it!\n",
    "        col_array = sh.row_values(row, start_colx=0, end_colx=None)\n",
    "        for field, options in target_fields.items():\n",
    "            for option in options:\n",
    "                match = match_column(option, col_array)\n",
    "                if match:\n",
    "                    matchedFields[match] = field\n",
    "                    if(len(matchedFields)==4): headerRowNum = row\n",
    "                    break\n",
    "print(matchedFields)\n",
    "if(not matchedFields):\n",
    "    print(\"Error: No Table Found!\")\n",
    "   \n",
    "                 \n"
   ]
  },
  {
   "cell_type": "code",
   "execution_count": 153,
   "metadata": {},
   "outputs": [],
   "source": [
    "col_name_to_index = {name: i for i, name in enumerate(sh.row_values(headerRowNum))}\n",
    "\n",
    "# Get column indices for our fields\n",
    "field_col_indices = {}\n",
    "for sheet_col_name, our_field in matchedFields.items():\n",
    "    if sheet_col_name in col_name_to_index:\n",
    "        field_col_indices[our_field] = col_name_to_index[sheet_col_name]"
   ]
  },
  {
   "cell_type": "code",
   "execution_count": 154,
   "metadata": {},
   "outputs": [],
   "source": [
    "transactions = []\n",
    "for row_idx in range(headerRowNum + 1, sh.nrows):\n",
    "    row = sh.row_values(row_idx)\n",
    "    if not any(row):  # skip empty rows\n",
    "        continue\n",
    "    try:\n",
    "        record = {}\n",
    "\n",
    "        # Date parsing (xlrd returns float for dates sometimes)\n",
    "        raw_date = row[field_col_indices['date']]\n",
    "    except Exception as e:\n",
    "        print(f\"Skipping row {row_idx} due to error: {e}\")\n"
   ]
  },
  {
   "cell_type": "markdown",
   "metadata": {},
   "source": [
    "lets find the last row to consider while filling table data"
   ]
  },
  {
   "cell_type": "code",
   "execution_count": 155,
   "metadata": {},
   "outputs": [],
   "source": [
    "\n",
    "from datetime import datetime\n",
    "\n",
    "def extract_transactions(sh, matchedFields, headerRowNum):\n",
    "    col_name_to_index = {name: i for i, name in enumerate(sh.row_values(headerRowNum))}\n",
    "\n",
    "    # Get column indices for our fields\n",
    "    field_col_indices = {}\n",
    "    for sheet_col_name, our_field in matchedFields.items():\n",
    "        if sheet_col_name in col_name_to_index:\n",
    "            field_col_indices[our_field] = col_name_to_index[sheet_col_name]\n",
    "\n",
    "    # Final structured list\n",
    "    transactions = []\n",
    "    flag = True\n",
    "\n",
    "    for row_idx in range(headerRowNum + 1, sh.nrows):\n",
    "        row = sh.row_values(row_idx)\n",
    "        if not any(row):  # skip empty rows\n",
    "            continue\n",
    "\n",
    "        try:\n",
    "            record = {}\n",
    "\n",
    "            # Date parsing (xlrd returns float for dates sometimes)\n",
    "            raw_date = row[field_col_indices['date']]\n",
    "            if(not row[field_col_indices['description']]): break\n",
    "            if(not str(raw_date)): break\n",
    "            if(str(raw_date)[0]=='*'):\n",
    "                if(flag): \n",
    "                    flag = False\n",
    "                    continue\n",
    "            if isinstance(raw_date, float):\n",
    "                dt_tuple = xlrd.xldate_as_tuple(raw_date, sh.book.datemode)\n",
    "                record['Date'] = datetime(*dt_tuple).strftime('%Y-%m-%d')\n",
    "            else:\n",
    "                record['Date'] = str(raw_date)\n",
    "\n",
    "            record['Description'] = str(row[field_col_indices['description']]).strip()\n",
    "            record['Withdrawal'] = float(row[field_col_indices['withdrawal']] or 0)\n",
    "            record['Deposit'] = float(row[field_col_indices['deposit']] or 0)\n",
    "\n",
    "            transactions.append(record)\n",
    "        except Exception as e:\n",
    "            print(f\"Skipping row {row_idx} due to error: {e}\")\n",
    "            break\n",
    "\n",
    "    return transactions\n"
   ]
  },
  {
   "cell_type": "code",
   "execution_count": 156,
   "metadata": {},
   "outputs": [
    {
     "name": "stdout",
     "output_type": "stream",
     "text": [
      "ok\n"
     ]
    }
   ],
   "source": [
    "# print(str(sh.cell_value(31, 0))[0])\n",
    "row = sh.row_values(31)\n",
    "if(str(row[0][0])=='*'): print(\"ok\")"
   ]
  },
  {
   "cell_type": "code",
   "execution_count": 157,
   "metadata": {},
   "outputs": [
    {
     "name": "stdout",
     "output_type": "stream",
     "text": [
      "0 {'Date': '01/02/25', 'Description': 'UPI-ICCL  MUTUAL FUNDS  -MFAUTOPAY.ELEMENTS@HDFCBANK-HDFC0000060-503214109548-ONLY RS 5000 WILL', 'Withdrawal': 5000.0, 'Deposit': 0.0}\n",
      "1 {'Date': '01/02/25', 'Description': 'UPI-ICCL  MUTUAL FUNDS  -MFAUTOPAY.ELEMENTS@HDFCBANK-HDFC0000060-503214113379-ONLY RS 5000 WILL', 'Withdrawal': 5000.0, 'Deposit': 0.0}\n",
      "2 {'Date': '02/02/25', 'Description': 'UPI-GAURAV KUMAR-9758912511IBL@AXL-PUNB0124520-503323769369-UPI', 'Withdrawal': 629.0, 'Deposit': 0.0}\n",
      "3 {'Date': '03/02/25', 'Description': 'UPI-AMAZON PAY-AMAZONPAYBALANCELOAD@APL-UTIB0000100-503436852673-REQUEST FROM AMAZO', 'Withdrawal': 400.0, 'Deposit': 0.0}\n",
      "4 {'Date': '03/02/25', 'Description': 'UPI-SHILA DEVI PUROHIT-BHARATPE9P0B7P2M8Z673485@YESBANKLTD-YESB0YESUPI-503461534735-PAY TO BHARATPE ME', 'Withdrawal': 165.0, 'Deposit': 0.0}\n",
      "5 {'Date': '03/02/25', 'Description': 'UPI-WAGHMARE VIKRAM ASHO-PAYTMQR66408F@PTYS-YESB0PTMUPI-503461547984-PAID VIA CRED', 'Withdrawal': 45.0, 'Deposit': 0.0}\n",
      "6 {'Date': '03/02/25', 'Description': 'UPI-MILAN TEA CENTER-GPAY-11250603948@OKBIZAXIS-UTIB0000553-503461559622-PAID VIA CRED', 'Withdrawal': 200.0, 'Deposit': 0.0}\n",
      "7 {'Date': '03/02/25', 'Description': 'UPI-MANISH PAL-MANISHPALHEERAGANJ97-1@OKAXIS-UTIB0002493-503461567611-PAID VIA CRED AND', 'Withdrawal': 25.0, 'Deposit': 0.0}\n",
      "8 {'Date': '03/02/25', 'Description': 'UPI-NEW PRINCE BAKERY  G-PAYTMQR61OR0D@PTYS-YESB0PTMUPI-503461585009-PAID VIA CRED', 'Withdrawal': 177.0, 'Deposit': 0.0}\n",
      "9 {'Date': '05/02/25', 'Description': 'UPI-ZEPTO MARKETPLACE PR-ZEPTOMARKETPLAC846299.RZP@RXAIRTEL-AIRP0000011-503698469384-UPI', 'Withdrawal': 94.48, 'Deposit': 0.0}\n",
      "10 {'Date': '05/02/25', 'Description': 'UPI-ZEPTO MARKETPLACE PR-ZEPTOMARKETPLAC932523.RZP@AXISBANK-UTIB0000100-503676925436-UPI', 'Withdrawal': 94.48, 'Deposit': 0.0}\n",
      "11 {'Date': '05/02/25', 'Description': 'UPI-I G ENTERPRISE-Q706482941@YBL-YESB0YBLUPI-503666313967-PAID VIA CRED', 'Withdrawal': 29.0, 'Deposit': 0.0}\n",
      "12 {'Date': '06/02/25', 'Description': 'UPIRET-202502-503698469384', 'Withdrawal': 0.0, 'Deposit': 94.48}\n",
      "13 {'Date': '06/02/25', 'Description': 'UPI-GAYATRI RAJNARAYAN G-GUPTARAJNARAYAN528@OKAXIS-CNRB0000033-503769471869-PAID VIA CRED AND', 'Withdrawal': 29.0, 'Deposit': 0.0}\n",
      "14 {'Date': '07/02/25', 'Description': 'UPI-CAFE RAMESHWAR-Q825668239@YBL-YESB0YBLUPI-503871929401-PAID VIA CRED', 'Withdrawal': 95.0, 'Deposit': 0.0}\n",
      "15 {'Date': '07/02/25', 'Description': 'UPI-CAFE RAMESHWAR-Q825668239@YBL-YESB0YBLUPI-503871930226-PAID VIA CRED', 'Withdrawal': 20.0, 'Deposit': 0.0}\n",
      "16 {'Date': '09/02/25', 'Description': 'UPI-CRED-CRED.CLUB@AXISB-UTIB0000114-504075471970-PAYMENT ON CRED', 'Withdrawal': 6824.0, 'Deposit': 0.0}\n",
      "17 {'Date': '09/02/25', 'Description': 'UPI-AMAZON PAY-AMAZONPAYCCBILLPAYMENT@APL-UTIB0000100-504065948385-REQUEST FROM AMAZO', 'Withdrawal': 4438.84, 'Deposit': 0.0}\n",
      "18 {'Date': '10/02/25', 'Description': 'ACH C- WIPROLIMITED-00000000000022581818', 'Withdrawal': 0.0, 'Deposit': 240.0}\n",
      "19 {'Date': '10/02/25', 'Description': 'UPI-SAKSHAM  ARORA-7500377431@YAPL-SBIN0018513-504119985192-CC XD', 'Withdrawal': 1106.0, 'Deposit': 0.0}\n",
      "20 {'Date': '10/02/25', 'Description': 'UPI-NEO WELCOME RESTAURA-Q478783733@YBL-YESB0YBLUPI-504116130328-UPI', 'Withdrawal': 409.0, 'Deposit': 0.0}\n",
      "21 {'Date': '11/02/25', 'Description': 'UPI-SHAKUNTALA SURESH GU-PAYTMQR65UE4F@PTYS-YESB0PTMUPI-504221397806-UPI', 'Withdrawal': 95.0, 'Deposit': 0.0}\n",
      "22 {'Date': '11/02/25', 'Description': 'UPI-GUPTA  SHIVNARAYAN-Q094627551@YBL-YESB0YBLUPI-504284975136-UPI', 'Withdrawal': 70.0, 'Deposit': 0.0}\n",
      "23 {'Date': '15/02/25', 'Description': 'UPI-PANCHAM PURIWAL-PAYTMQR576MOB@PAYTM-YESB0PTMUPI-504684574134-UPI', 'Withdrawal': 170.0, 'Deposit': 0.0}\n",
      "24 {'Date': '24/02/25', 'Description': 'UPI-ROLEX METAL INDUSTRI-BHARATPE5V0S2M8A4E60565@YESBANKLTD-YESB0YESUPI-505596622929-PAY TO ROLEX METAL', 'Withdrawal': 200.0, 'Deposit': 0.0}\n",
      "25 {'Date': '25/02/25', 'Description': 'UPI-MOHINI VINEET GAUTAM-8766584534@YBL-BARB0NASIKR-624432017445-PAYMENT FROM PHONE', 'Withdrawal': 0.0, 'Deposit': 87.0}\n",
      "26 {'Date': '25/02/25', 'Description': 'UPI-BANGALORE IYANGAR BA-Q424889783@YBL-YESB0YBLUPI-505690647886-UPI', 'Withdrawal': 120.0, 'Deposit': 0.0}\n",
      "27 {'Date': '26/02/25', 'Description': 'UPI-AMAZON BILL PAY-AMAZONPAYRECHARGES@RAPL-RATN000RAPL-505742932341-REQUEST FROM AMAZO', 'Withdrawal': 209.0, 'Deposit': 0.0}\n",
      "28 {'Date': '28/02/25', 'Description': 'UPI-AMAZON PAY-AMAZONPAYBALANCELOAD@APL-UTIB0000100-505916799010-REQUEST FROM AMAZO', 'Withdrawal': 200.0, 'Deposit': 0.0}\n"
     ]
    }
   ],
   "source": [
    "# After matchedFields and headerRowNum are populated\n",
    "transactions = extract_transactions(sh, matchedFields, headerRowNum)\n",
    "\n",
    "# Example: print the first 5\n",
    "for index, tx in enumerate(transactions):\n",
    "    print (index,tx)"
   ]
  },
  {
   "cell_type": "code",
   "execution_count": 158,
   "metadata": {},
   "outputs": [
    {
     "ename": "SyntaxError",
     "evalue": "incomplete input (2570294709.py, line 6)",
     "output_type": "error",
     "traceback": [
      "\u001b[1;36m  Cell \u001b[1;32mIn[158], line 6\u001b[1;36m\u001b[0m\n\u001b[1;33m    \u001b[0m\n\u001b[1;37m    ^\u001b[0m\n\u001b[1;31mSyntaxError\u001b[0m\u001b[1;31m:\u001b[0m incomplete input\n"
     ]
    }
   ],
   "source": [
    "import pandas as pd\n",
    "headerRow = sh.row_values(headerRowNum, start_colx=0, end_colx=None)\n",
    "result_df = pd.DataFrame(columns=['Date', 'Description', 'Withdrawal', 'Deposit'])\n",
    "for i in headerRow:\n",
    "    if(matchedFields[i]):\n",
    "        \n"
   ]
  }
 ],
 "metadata": {
  "kernelspec": {
   "display_name": "venv",
   "language": "python",
   "name": "python3"
  },
  "language_info": {
   "codemirror_mode": {
    "name": "ipython",
    "version": 3
   },
   "file_extension": ".py",
   "mimetype": "text/x-python",
   "name": "python",
   "nbconvert_exporter": "python",
   "pygments_lexer": "ipython3",
   "version": "3.10.11"
  }
 },
 "nbformat": 4,
 "nbformat_minor": 2
}
