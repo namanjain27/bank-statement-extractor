{
 "cells": [
  {
   "cell_type": "markdown",
   "metadata": {},
   "source": [
    "#build fuzzy words dict\n",
    "#travel on 1st col till you find dateMatch - no? throw error\n",
    "#if dateMatch found, travel in the row and find other 3 match - save their col in matchCol[] and matchRow\n",
    "#travel in dateMatch col, fill the ignoreRows[] (dateFoundFlag - on then off -> ok) => found start and #finish row of table\n",
    "#travel whole table using matchCol[] & matchRow, start & finish and fill extract[][]\n",
    "#return extract"
   ]
  },
  {
   "cell_type": "code",
   "execution_count": 170,
   "metadata": {},
   "outputs": [],
   "source": [
    "from fuzzywuzzy import process\n",
    "\n",
    "def match_column(possible_names, actual_columns):\n",
    "    match, score = process.extractOne(possible_names, actual_columns)\n",
    "    return match if score > 60 else None"
   ]
  },
  {
   "cell_type": "code",
   "execution_count": 171,
   "metadata": {},
   "outputs": [],
   "source": [
    "target_fields = {\n",
    "    'date': ['date', 'transaction date', 'value date','Txn Date', 'Expense Date'],\n",
    "    'description': ['description', 'particulars', 'payment name', 'narration'],\n",
    "    'withdrawal': ['debit', 'withdrawal', 'amount withdrawn'],\n",
    "    'deposit': ['credit', 'deposit', 'amount deposited']\n",
    "}"
   ]
  },
  {
   "cell_type": "code",
   "execution_count": 172,
   "metadata": {},
   "outputs": [],
   "source": [
    "import xlrd\n",
    "book = xlrd.open_workbook(fileName)\n",
    "sh = book.sheet_by_index(0)\n",
    "col_a = sh.col_values(0, start_rowx=0, end_rowx=None)"
   ]
  },
  {
   "cell_type": "code",
   "execution_count": null,
   "metadata": {},
   "outputs": [],
   "source": [
    "dateMatchRows = set()\n",
    "for i in range(0,len(col_a)-1):\n",
    "    if col_a[i]:\n",
    "        for j in (target_fields['date']):\n",
    "            try:\n",
    "                if(match_column(col_a[i], j)):\n",
    "                    dateMatchRows.add(i)\n",
    "            except (TypeError):\n",
    "                pass\n"
   ]
  },
  {
   "cell_type": "markdown",
   "metadata": {},
   "source": [
    "if dateMatch found, travel in the row and find other 3 match - save their col in matchCol[] and matchRow\n"
   ]
  },
  {
   "cell_type": "code",
   "execution_count": 175,
   "metadata": {},
   "outputs": [],
   "source": [
    "#matchedFields is field in sheet -> our field\n",
    "matchedFields = {}\n",
    "headerRowNum = 0\n",
    "if dateMatchRows:\n",
    "    # check that particular row contains other 3 cols or not and save them\n",
    "    for row in dateMatchRows:\n",
    "        # travel in this row - add in dict - if len(dict) == 4 then we found it!\n",
    "        col_array = sh.row_values(row, start_colx=0, end_colx=None)\n",
    "        for field, options in target_fields.items():\n",
    "            for option in options:\n",
    "                match = match_column(option, col_array)\n",
    "                if match:\n",
    "                    matchedFields[match] = field\n",
    "                    if(len(matchedFields)==4): headerRowNum = row\n",
    "                    break\n",
    "if(not matchedFields):\n",
    "    print(\"Error: No Table Found!\")\n",
    "   \n",
    "                 \n"
   ]
  },
  {
   "cell_type": "markdown",
   "metadata": {},
   "source": [
    "lets find the last row to consider while filling table data"
   ]
  },
  {
   "cell_type": "code",
   "execution_count": 176,
   "metadata": {},
   "outputs": [],
   "source": [
    "\n",
    "from datetime import datetime\n",
    "\n",
    "def extract_transactions(sh, matchedFields, headerRowNum):\n",
    "\n",
    "    book = xlrd.open_workbook(fileName)\n",
    "    sh = book.sheet_by_index(0)\n",
    "    col_a = sh.col_values(0, start_rowx=0, end_rowx=None)\n",
    "    col_name_to_index = {name: i for i, name in enumerate(sh.row_values(headerRowNum))}\n",
    "\n",
    "    dateMatchRows = set()\n",
    "    for i in range(0,len(col_a)-1):\n",
    "        if col_a[i]:\n",
    "            for j in (target_fields['date']):\n",
    "                try:\n",
    "                    if(match_column(col_a[i], j)):\n",
    "                        dateMatchRows.add(i)\n",
    "                except (TypeError):\n",
    "                    pass\n",
    "    #matchedFields is field in sheet -> our field\n",
    "    matchedFields = {}\n",
    "    headerRowNum = 0\n",
    "    if dateMatchRows:\n",
    "        # check that particular row contains other 3 cols or not and save them\n",
    "        for row in dateMatchRows:\n",
    "            # travel in this row - add in dict - if len(dict) == 4 then we found it!\n",
    "            col_array = sh.row_values(row, start_colx=0, end_colx=None)\n",
    "            for field, options in target_fields.items():\n",
    "                for option in options:\n",
    "                    match = match_column(option, col_array)\n",
    "                    if match:\n",
    "                        matchedFields[match] = field\n",
    "                        if(len(matchedFields)==4): headerRowNum = row\n",
    "                        break\n",
    "    if(not matchedFields):\n",
    "        print(\"Error: No Table Found!\")\n",
    "        \n",
    "\n",
    "    # Get column indices for our fields\n",
    "    field_col_indices = {}\n",
    "    for sheet_col_name, our_field in matchedFields.items():\n",
    "        if sheet_col_name in col_name_to_index:\n",
    "            field_col_indices[our_field] = col_name_to_index[sheet_col_name]\n",
    "\n",
    "    # Final structured list\n",
    "    transactions = []\n",
    "    flag = True\n",
    "\n",
    "    for row_idx in range(headerRowNum + 1, sh.nrows):\n",
    "        row = sh.row_values(row_idx)\n",
    "        if not any(row):  # skip empty rows\n",
    "            continue\n",
    "\n",
    "        try:\n",
    "            record = {}\n",
    "\n",
    "            # Date parsing (xlrd returns float for dates sometimes)\n",
    "            raw_date = row[field_col_indices['date']]\n",
    "            if(not row[field_col_indices['description']]): break\n",
    "            if(not str(raw_date)): break\n",
    "            if(str(raw_date)[0]=='*'):\n",
    "                if(flag): \n",
    "                    flag = False\n",
    "                    continue\n",
    "            if isinstance(raw_date, float):\n",
    "                dt_tuple = xlrd.xldate_as_tuple(raw_date, sh.book.datemode)\n",
    "                record['Date'] = datetime(*dt_tuple).strftime('%Y-%m-%d')\n",
    "            else:\n",
    "                record['Date'] = str(raw_date)\n",
    "\n",
    "            record['Description'] = str(row[field_col_indices['description']]).strip()\n",
    "            record['Withdrawal'] = float(row[field_col_indices['withdrawal']] or 0)\n",
    "            record['Deposit'] = float(row[field_col_indices['deposit']] or 0)\n",
    "\n",
    "            transactions.append(record)\n",
    "        except Exception as e:\n",
    "            print(f\"Skipping row {row_idx} due to error: {e}\")\n",
    "            break\n",
    "\n",
    "    return transactions\n"
   ]
  },
  {
   "cell_type": "code",
   "execution_count": null,
   "metadata": {},
   "outputs": [],
   "source": [
    "# After matchedFields and headerRowNum are populated\n",
    "transactions = extract_transactions(sh, matchedFields, headerRowNum)\n",
    "\n",
    "# Example: print the first 5\n",
    "for index, tx in enumerate(transactions):\n",
    "    print (index,tx)"
   ]
  }
 ],
 "metadata": {
  "kernelspec": {
   "display_name": "venv",
   "language": "python",
   "name": "python3"
  },
  "language_info": {
   "codemirror_mode": {
    "name": "ipython",
    "version": 3
   },
   "file_extension": ".py",
   "mimetype": "text/x-python",
   "name": "python",
   "nbconvert_exporter": "python",
   "pygments_lexer": "ipython3",
   "version": "3.10.11"
  }
 },
 "nbformat": 4,
 "nbformat_minor": 2
}
