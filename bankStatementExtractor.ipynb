{
 "cells": [
  {
   "cell_type": "markdown",
   "metadata": {},
   "source": [
    "##convert xls to xlsx"
   ]
  },
  {
   "cell_type": "code",
   "execution_count": 2,
   "metadata": {},
   "outputs": [
    {
     "data": {
      "text/plain": [
       "'feb25.xlsx'"
      ]
     },
     "execution_count": 2,
     "metadata": {},
     "output_type": "execute_result"
    }
   ],
   "source": [
    "from xls2xlsx import XLS2XLSX\n",
    "x2x = XLS2XLSX(\"feb25.xls\")\n",
    "x2x.to_xlsx(\"feb25.xlsx\")"
   ]
  },
  {
   "cell_type": "markdown",
   "metadata": {},
   "source": [
    "##read the excel file   "
   ]
  },
  {
   "cell_type": "code",
   "execution_count": 26,
   "metadata": {},
   "outputs": [
    {
     "name": "stdout",
     "output_type": "stream",
     "text": [
      "Index(['HDFC BANK Ltd.                                      Page No .:   1                                          Statement of accounts',\n",
      "       'Unnamed: 1', 'Unnamed: 2', 'Unnamed: 3', 'Unnamed: 4', 'Unnamed: 5',\n",
      "       'Unnamed: 6'],\n",
      "      dtype='object')\n"
     ]
    }
   ],
   "source": [
    "import pandas as pd\n",
    "\n",
    "df = pd.read_excel('D:\\\\codes\\\\bank statement extractor\\\\apr25.xls', engine='xlrd')\n",
    "\n",
    "print(df.columns)\n",
    "\n",
    "\n"
   ]
  },
  {
   "cell_type": "code",
   "execution_count": 23,
   "metadata": {},
   "outputs": [
    {
     "name": "stdout",
     "output_type": "stream",
     "text": [
      "                                                                                                                                             Date                                                                                                Narration      Chq./Ref.No.   Value Dt          Withdrawal Amt.        Deposit Amt.     Closing Balance\n",
      "0                                                                                                                                        01/02/25          UPI-ICCL  MUTUAL FUNDS  -MFAUTOPAY.ELEMENTS@HDFCBANK-HDFC0000060-503214109548-ONLY RS 5000 WILL  0000503214109548   01/02/25                     5000                 NaN            54363.03\n",
      "1                                                                                                                                        01/02/25          UPI-ICCL  MUTUAL FUNDS  -MFAUTOPAY.ELEMENTS@HDFCBANK-HDFC0000060-503214113379-ONLY RS 5000 WILL  0000503214113379   01/02/25                     5000                 NaN            49363.03\n",
      "2                                                                                                                                        02/02/25                                          UPI-GAURAV KUMAR-9758912511IBL@AXL-PUNB0124520-503323769369-UPI  0000503323769369   02/02/25                      629                 NaN            48734.03\n",
      "3                                                                                                                                        03/02/25                      UPI-AMAZON PAY-AMAZONPAYBALANCELOAD@APL-UTIB0000100-503436852673-REQUEST FROM AMAZO  0000503436852673   03/02/25                      400                 NaN            48334.03\n",
      "4                                                                                                                                        03/02/25   UPI-SHILA DEVI PUROHIT-BHARATPE9P0B7P2M8Z673485@YESBANKLTD-YESB0YESUPI-503461534735-PAY TO BHARATPE ME  0000503461534735   03/02/25                      165                 NaN            48169.03\n",
      "5                                                                                                                                        03/02/25                       UPI-WAGHMARE VIKRAM ASHO-PAYTMQR66408F@PTYS-YESB0PTMUPI-503461547984-PAID VIA CRED  0000503461547984   03/02/25                       45                 NaN            48124.03\n",
      "6                                                                                                                                        03/02/25                   UPI-MILAN TEA CENTER-GPAY-11250603948@OKBIZAXIS-UTIB0000553-503461559622-PAID VIA CRED  0000503461559622   03/02/25                      200                 NaN            47924.03\n",
      "7                                                                                                                                        03/02/25                  UPI-MANISH PAL-MANISHPALHEERAGANJ97-1@OKAXIS-UTIB0002493-503461567611-PAID VIA CRED AND  0000503461567611   03/02/25                       25                 NaN            47899.03\n",
      "8                                                                                                                                        03/02/25                       UPI-NEW PRINCE BAKERY  G-PAYTMQR61OR0D@PTYS-YESB0PTMUPI-503461585009-PAID VIA CRED  0000503461585009   03/02/25                      177                 NaN            47722.03\n",
      "9                                                                                                                                        05/02/25                 UPI-ZEPTO MARKETPLACE PR-ZEPTOMARKETPLAC846299.RZP@RXAIRTEL-AIRP0000011-503698469384-UPI  0000503698469384   05/02/25                    94.48                 NaN            47627.55\n",
      "10                                                                                                                                       05/02/25                 UPI-ZEPTO MARKETPLACE PR-ZEPTOMARKETPLAC932523.RZP@AXISBANK-UTIB0000100-503676925436-UPI  0000503676925436   05/02/25                    94.48                 NaN            47533.07\n",
      "11                                                                                                                                       05/02/25                                 UPI-I G ENTERPRISE-Q706482941@YBL-YESB0YBLUPI-503666313967-PAID VIA CRED  0000503666313967   05/02/25                       29                 NaN            47504.07\n",
      "12                                                                                                                                       06/02/25                                                                               UPIRET-202502-503698469384   000000000000000   06/02/25                      NaN               94.48            47598.55\n",
      "13                                                                                                                                       06/02/25            UPI-GAYATRI RAJNARAYAN G-GUPTARAJNARAYAN528@OKAXIS-CNRB0000033-503769471869-PAID VIA CRED AND  0000503769471869   06/02/25                       29                 NaN            47569.55\n",
      "14                                                                                                                                       07/02/25                                 UPI-CAFE RAMESHWAR-Q825668239@YBL-YESB0YBLUPI-503871929401-PAID VIA CRED  0000503871929401   07/02/25                       95                 NaN            47474.55\n",
      "15                                                                                                                                       07/02/25                                 UPI-CAFE RAMESHWAR-Q825668239@YBL-YESB0YBLUPI-503871930226-PAID VIA CRED  0000503871930226   07/02/25                       20                 NaN            47454.55\n",
      "16                                                                                                                                       09/02/25                                        UPI-CRED-CRED.CLUB@AXISB-UTIB0000114-504075471970-PAYMENT ON CRED  0000504075471970   09/02/25                     6824                 NaN            40630.55\n",
      "17                                                                                                                                       09/02/25                    UPI-AMAZON PAY-AMAZONPAYCCBILLPAYMENT@APL-UTIB0000100-504065948385-REQUEST FROM AMAZO  0000504065948385   09/02/25                  4438.84                 NaN            36191.71\n",
      "18                                                                                                                                       10/02/25                                                                 ACH C- WIPROLIMITED-00000000000022581818  0000007290649041   10/02/25                      NaN                 240            36431.71\n",
      "19                                                                                                                                       10/02/25                                        UPI-SAKSHAM  ARORA-7500377431@YAPL-SBIN0018513-504119985192-CC XD  0000504119985192   10/02/25                     1106                 NaN            35325.71\n",
      "20                                                                                                                                       10/02/25                                     UPI-NEO WELCOME RESTAURA-Q478783733@YBL-YESB0YBLUPI-504116130328-UPI  0000504116130328   10/02/25                      409                 NaN            34916.71\n",
      "21                                                                                                                                       11/02/25                                 UPI-SHAKUNTALA SURESH GU-PAYTMQR65UE4F@PTYS-YESB0PTMUPI-504221397806-UPI  0000504221397806   11/02/25                       95                 NaN            34821.71\n",
      "22                                                                                                                                       11/02/25                                       UPI-GUPTA  SHIVNARAYAN-Q094627551@YBL-YESB0YBLUPI-504284975136-UPI  0000504284975136   11/02/25                       70                 NaN            34751.71\n",
      "23                                                                                                                                       15/02/25                                     UPI-PANCHAM PURIWAL-PAYTMQR576MOB@PAYTM-YESB0PTMUPI-504684574134-UPI  0000504684574134   15/02/25                      170                 NaN            34581.71\n",
      "24                                                                                                                                       24/02/25  UPI-ROLEX METAL INDUSTRI-BHARATPE5V0S2M8A4E60565@YESBANKLTD-YESB0YESUPI-505596622929-PAY TO ROLEX METAL  0000505596622929   24/02/25                      200                 NaN            34381.71\n",
      "25                                                                                                                                       25/02/25                      UPI-MOHINI VINEET GAUTAM-8766584534@YBL-BARB0NASIKR-624432017445-PAYMENT FROM PHONE  0000624432017445   25/02/25                      NaN                  87            34468.71\n",
      "26                                                                                                                                       25/02/25                                     UPI-BANGALORE IYANGAR BA-Q424889783@YBL-YESB0YBLUPI-505690647886-UPI  0000505690647886   25/02/25                      120                 NaN            34348.71\n",
      "27                                                                                                                                       26/02/25                  UPI-AMAZON BILL PAY-AMAZONPAYRECHARGES@RAPL-RATN000RAPL-505742932341-REQUEST FROM AMAZO  0000505742932341   26/02/25                      209                 NaN            34139.71\n",
      "28                                                                                                                                       28/02/25                      UPI-AMAZON PAY-AMAZONPAYBALANCELOAD@APL-UTIB0000100-505916799010-REQUEST FROM AMAZO  0000505916799010   28/02/25                      200                 NaN            33939.71\n",
      "29                                                                                                                                            NaN                                                                                                      NaN               NaN        NaN                      NaN                 NaN                 NaN\n",
      "30                                                                                                                                       ********                                                                       **********************************      ************   ********       ******************  ******************  ******************\n",
      "31              *********************************************************************************************************************************                                                                                                      NaN               NaN        NaN                      NaN                 NaN                 NaN\n",
      "32                                                                                                                                            NaN                                                                                                      NaN               NaN        NaN                      NaN                 NaN                 NaN\n",
      "33                                                                                                                          STATEMENT SUMMARY  :-                                                                                                      NaN               NaN        NaN                      NaN                 NaN                 NaN\n",
      "34                                                                                                                                Opening Balance                                                                                                      NaN               NaN        NaN                   Debits             Credits         Closing Bal\n",
      "35                                                                                                                                       59363.03                                                                                                      NaN               NaN        NaN                  25844.8              421.48            33939.71\n",
      "36                                                                                                                                            NaN                                                                                                      NaN               NaN        NaN                      NaN                 NaN                 NaN\n",
      "37                                                                                                                                            NaN                                                                                                      NaN               NaN        NaN                 Dr Count            Cr Count                 NaN\n",
      "38                                                                                                                                            NaN                                                                                                      NaN               NaN        NaN                       26                   3                 NaN\n",
      "39                                                                                                                                            NaN                                                                                                      NaN               NaN        NaN                      NaN                 NaN                 NaN\n",
      "40                                                                                                                                            NaN                                                                                                      NaN               NaN        NaN                      NaN                 NaN                 NaN\n",
      "41                                                                                                                                  Generated On:                                                                                        10-May-2025 02:10     Generated By:  154547533  Requesting Branch Code:                 NET                 NaN\n",
      "42                                                                                                                                            NaN                                                                                                      NaN               NaN        NaN                      NaN                 NaN                 NaN\n",
      "43                                                                                                                     State account branch GSTN:                                                                                          22AAACH2702H1ZA               NaN        NaN                      NaN                 NaN                 NaN\n",
      "44  HDFC Bank GSTIN number details are available at \\nhttps://www.hdfcbank.com/personal/making-payments/online-tax-payment/goods-and-service-tax.                                                                                                      NaN               NaN        NaN                      NaN                 NaN                 NaN\n",
      "45                                                    Registered Office Address: HDFC Bank House, Senapati Bapat Marg, Lower Parel, Mumbai 400013                                                                                                      NaN               NaN        NaN                      NaN                 NaN                 NaN\n",
      "46                                                                                                                      ---  End Of Statement ---                                                                                                      NaN               NaN        NaN                      NaN                 NaN                 NaN\n"
     ]
    }
   ],
   "source": [
    "print(df.to_string())"
   ]
  },
  {
   "cell_type": "markdown",
   "metadata": {},
   "source": [
    "##Normalize Column Names Using Fuzzy Matching"
   ]
  },
  {
   "cell_type": "code",
   "execution_count": 10,
   "metadata": {},
   "outputs": [
    {
     "name": "stderr",
     "output_type": "stream",
     "text": [
      "d:\\codes\\bank statement extractor\\venv\\lib\\site-packages\\fuzzywuzzy\\fuzz.py:11: UserWarning: Using slow pure-python SequenceMatcher. Install python-Levenshtein to remove this warning\n",
      "  warnings.warn('Using slow pure-python SequenceMatcher. Install python-Levenshtein to remove this warning')\n"
     ]
    }
   ],
   "source": [
    "from fuzzywuzzy import process\n",
    "\n",
    "def match_column(possible_names, actual_columns):\n",
    "    match, score = process.extractOne(possible_names, actual_columns)\n",
    "    return match if score > 60 else None"
   ]
  },
  {
   "cell_type": "markdown",
   "metadata": {},
   "source": [
    "#train the model with expected data "
   ]
  },
  {
   "cell_type": "code",
   "execution_count": 11,
   "metadata": {},
   "outputs": [],
   "source": [
    "target_fields = {\n",
    "    'date': ['date', 'transaction date', 'value date','Txn Date', 'Expense Date'],\n",
    "    'description': ['description', 'particulars', 'payment name', 'narration'],\n",
    "    'withdrawal': ['debit', 'withdrawal', 'amount withdrawn'],\n",
    "    'deposit': ['credit', 'deposit', 'amount deposited']\n",
    "}"
   ]
  },
  {
   "cell_type": "code",
   "execution_count": 12,
   "metadata": {},
   "outputs": [],
   "source": [
    "#check what are the fields it is able to match"
   ]
  },
  {
   "cell_type": "code",
   "execution_count": 13,
   "metadata": {},
   "outputs": [
    {
     "name": "stdout",
     "output_type": "stream",
     "text": [
      "{'date': 'Date', 'description': 'Narration', 'withdrawal': 'Withdrawal Amt.', 'deposit': 'Deposit Amt.'}\n"
     ]
    }
   ],
   "source": [
    "mapped_columns = {}\n",
    "\n",
    "for field, options in target_fields.items():\n",
    "    for option in options:\n",
    "        match = match_column(option, df.columns)\n",
    "        if match:\n",
    "            mapped_columns[field] = match\n",
    "            break\n",
    "\n",
    "print(mapped_columns)"
   ]
  },
  {
   "cell_type": "markdown",
   "metadata": {},
   "source": [
    "# Extract and Clean the Data"
   ]
  },
  {
   "cell_type": "code",
   "execution_count": null,
   "metadata": {},
   "outputs": [],
   "source": [
    "# Create empty dataframe to store cleaned data\n",
    "df_clean = pd.DataFrame()\n",
    "\n",
    "# Find first invalid date row\n",
    "valid_mask = pd.to_datetime(df[mapped_columns['date']], errors='coerce').notna()\n",
    "last_valid_idx = valid_mask[valid_mask].index[-1]\n",
    "\n",
    "# Only take rows up to last valid date\n",
    "df = df.iloc[:last_valid_idx + 1]\n",
    "\n",
    "print(df.to_string())"
   ]
  },
  {
   "cell_type": "code",
   "execution_count": null,
   "metadata": {},
   "outputs": [],
   "source": [
    "df_clean['Date'] = pd.to_datetime(df[mapped_columns['date']])\n",
    "df_clean['Description'] = df[mapped_columns['description']].astype(str)\n",
    "df_clean['Withdrawal'] = pd.to_numeric(df[mapped_columns['withdrawal']], errors='coerce').fillna(0)\n",
    "df_clean['Deposit'] = pd.to_numeric(df[mapped_columns['deposit']], errors='coerce').fillna(0)\n",
    "#coerce handles the errors and fillna handles the missing values\n",
    "print(df_clean.head())\n",
    "\n"
   ]
  }
 ],
 "metadata": {
  "kernelspec": {
   "display_name": "venv",
   "language": "python",
   "name": "python3"
  },
  "language_info": {
   "codemirror_mode": {
    "name": "ipython",
    "version": 3
   },
   "file_extension": ".py",
   "mimetype": "text/x-python",
   "name": "python",
   "nbconvert_exporter": "python",
   "pygments_lexer": "ipython3",
   "version": "3.10.11"
  }
 },
 "nbformat": 4,
 "nbformat_minor": 2
}
